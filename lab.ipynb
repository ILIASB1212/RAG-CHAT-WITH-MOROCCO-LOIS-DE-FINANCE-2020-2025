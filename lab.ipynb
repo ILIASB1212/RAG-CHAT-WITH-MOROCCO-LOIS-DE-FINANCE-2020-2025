{
 "cells": [
  {
   "cell_type": "code",
   "execution_count": 4,
   "id": "a9a36531",
   "metadata": {},
   "outputs": [],
   "source": [
    "from dotenv import load_dotenv\n",
    "from langchain_openai import OpenAIEmbeddings\n",
    "from langchain_groq import ChatGroq\n",
    "from langchain_community.document_loaders import PyPDFDirectoryLoader\n",
    "from langchain_community.vectorstores import Chroma\n",
    "from langchain.text_splitter import RecursiveCharacterTextSplitter\n",
    "from langchain.chains.combine_documents.stuff import create_stuff_documents_chain\n",
    "from langchain.prompts import ChatPromptTemplate\n",
    "from langchain.chains.retrieval import create_retrieval_chain\n",
    "from langchain_core.output_parsers.string import StrOutputParser\n",
    "import glob\n",
    "import os"
   ]
  },
  {
   "cell_type": "code",
   "execution_count": 5,
   "id": "4b068acc",
   "metadata": {},
   "outputs": [],
   "source": [
    "# LOAD THE API KEYS \n",
    "load_dotenv()\n",
    "os.environ[\"OPENAI_API_KEY\"]=os.getenv(\"OPENAI_API_KEY\")\n",
    "os.environ[\"GROQ_API_KEY\"]=os.getenv(\"GROQ_API_KEY\")\n",
    "os.environ[\"LANGCHAIN_API_KEY\"]=os.getenv(\"LANGCHAIN_API_KEY\")\n",
    "os.environ[\"LANGCHAIN_TRACING_V2\"] = \"true\"\n",
    "os.environ[\"LANGCHAIN_PROJECT\"] = \"LOIS DE FINANCE RAG\""
   ]
  },
  {
   "cell_type": "code",
   "execution_count": 6,
   "id": "adb9e69f",
   "metadata": {},
   "outputs": [
    {
     "data": {
      "text/plain": [
       "Document(metadata={'producer': 'Adobe PDF Library 10.0.1', 'creator': 'Adobe InDesign CC (Windows)', 'creationdate': '2019-12-24T15:19:17+01:00', 'moddate': '2019-12-24T15:19:24+01:00', 'trapped': '/False', 'source': 'data\\\\FLAW 2020.pdf', 'total_pages': 106, 'page': 0, 'page_label': '2395'}, page_content='{\\nROYAUME DU MAROC\\nBULLETIN OFFICIEL\\nEDITION DE TRADUCTION OFFICIELLE\\nEDITIONS\\nTARIFS D’ABONNEMENT ABONNEMENT\\nIMPRIMERIE OFFICIELLE\\nRabat - Chellah\\nTél. : 05.37.76.50.24 ‑ 05.37.76.50.25\\n05.37.76.54.13\\nCompte n° :\\n310 810 1014029004423101 33\\nouvert à la Trésorerie Préfectorale de Rabat \\nau nom du régisseur des recettes \\nde l’Imprimerie officielle\\nAU MAROC\\nA L’ETRANGER\\n6 mois 1 an\\nEdition générale...................................................................\\nEdition de traduction officielle.............................................\\nEdition des conventions internationales................................\\nEdition des annonces légales, judiciaires et administratives...\\nEdition des annonces relatives à l’immatriculation foncière..\\n250 DH\\n150 DH\\n150 DH\\n250 DH\\n250 DH\\n400 DH\\n200 DH\\n200 DH\\n300 DH\\n300 DH\\nA destination de l’étranger, \\npar voies ordinaire, aérienne \\nou de la poste rapide interna‑\\ntionale, les tarifs prévus ci‑\\ncontre sont majorés des frais \\nd’envoi, tels qu’ils sont fixés \\npar la réglementation postale \\nen vigueur.\\nCette édition contient la traduction officielle des lois et règlements ainsi que tous autres décisions ou documents dont \\nla publication au Bulletin officiel est prévue par les lois ou les réglements en vigueur\\nPages\\nCent-huitième année – N° 6838 bis  17 rabii II 1441 (14 décembre 2019)\\nISSN 0851 - 1217\\nSOMMAIRE\\nTEXTES GENERAUX\\nLoi de finances pour l’année budgétaire 2020.\\nDahir  n° 1-19-125 du 16 rabii II 1441 (13 décembre 2019) portant promulgation de la loi de finances \\nn° 70-19 pour l’année budgétaire 2020 ..................................................................................................2396\\nMinistre de l’économie, des finances et de la réforme de l’administration.\\xa0–\\xa0Délégation \\nde\\xa0pouvoir.\\nDécret n° 2-19-845 du 16 rabii II 1441 (13 décembre 2019) portant  délégation de pouvoir,  au ministre de \\nl’économie, des finances et de la réforme de l’administration, en matière d’emprunts intérieurs et de \\nrecours à tout autre instrument financier ..............................................................................................2499\\nDécret n° 2-19-846 du 16 rabii II 1441 (13 décembre 2019) portant  délégation de pouvoir,  au ministre de \\nl’économie, des finances et de la réforme de l’administration, en matière de financements extérieurs ...2499\\nDécret n° 2-19-847 du 16 rabii II 1441 (13 décembre 2019) portant délégation de pouvoir, au ministre de \\nl’économie, des finances et de la réforme de l’administration, en vue de conclure des contrats d’emprunts \\npour le remboursement  de la dette extérieure onéreuse et des accords de couverture  de risques de \\ntaux d’intérêts et d’échange de devises...................................................................................................2500')"
      ]
     },
     "execution_count": 6,
     "metadata": {},
     "output_type": "execute_result"
    }
   ],
   "source": [
    "documents=PyPDFDirectoryLoader(\"./data\").load()\n",
    "documents[0]"
   ]
  },
  {
   "cell_type": "code",
   "execution_count": 7,
   "id": "ace98956",
   "metadata": {},
   "outputs": [],
   "source": [
    "# split to chunks\n",
    "text_splitter = RecursiveCharacterTextSplitter(\n",
    "        chunk_size=500,  \n",
    "        chunk_overlap=100,\n",
    "        length_function=len,\n",
    "        add_start_index=True,\n",
    "    )\n",
    "\n",
    "splited_document=text_splitter.split_documents(documents)"
   ]
  },
  {
   "cell_type": "code",
   "execution_count": 8,
   "id": "046fba40",
   "metadata": {},
   "outputs": [
    {
     "data": {
      "text/plain": [
       "4924"
      ]
     },
     "execution_count": 8,
     "metadata": {},
     "output_type": "execute_result"
    }
   ],
   "source": [
    "len(splited_document)"
   ]
  },
  {
   "cell_type": "code",
   "execution_count": 9,
   "id": "7b31f493",
   "metadata": {},
   "outputs": [
    {
     "data": {
      "text/plain": [
       "'Décret n° 2-19-846 du 16 rabii II 1441 (13 décembre 2019) portant  délégation de pouvoir,  au ministre de \\nl’économie, des finances et de la réforme de l’administration, en matière de financements extérieurs ...2499\\nDécret n° 2-19-847 du 16 rabii II 1441 (13 décembre 2019) portant délégation de pouvoir, au ministre de \\nl’économie, des finances et de la réforme de l’administration, en vue de conclure des contrats d’emprunts'"
      ]
     },
     "execution_count": 9,
     "metadata": {},
     "output_type": "execute_result"
    }
   ],
   "source": [
    "splited_document[5].page_content"
   ]
  },
  {
   "cell_type": "code",
   "execution_count": 10,
   "id": "83e3d91e",
   "metadata": {},
   "outputs": [],
   "source": [
    "embeddings=OpenAIEmbeddings()"
   ]
  },
  {
   "cell_type": "code",
   "execution_count": 11,
   "id": "a344b1d4",
   "metadata": {},
   "outputs": [],
   "source": [
    "vectorstore = Chroma.from_documents(splited_document, embeddings)"
   ]
  },
  {
   "cell_type": "code",
   "execution_count": 12,
   "id": "6d58d1a4",
   "metadata": {},
   "outputs": [
    {
     "data": {
      "text/plain": [
       "[Document(metadata={'page_label': '2605', 'total_pages': 98, 'producer': 'Adobe PDF Library 11.0', 'creator': 'Adobe InDesign CC (Windows)', 'page': 0, 'creationdate': '2021-12-21T11:52:49+00:00', 'moddate': '2021-12-21T11:52:59+00:00', 'source': 'data\\\\FLAW 2022.pdf', 'trapped': '/False', 'start_index': 1167}, page_content='la publication au Bulletin officiel est prévue par les lois ou les réglements en vigueur\\nPages\\nSOMMAIRE\\nTEXTES GENERAUX\\nLoi de finances pour l’année budgétaire 2022.\\nDahir n° 1-21-115 du 5 joumada I 1443 (10 décembre 2021 ) portant promulgation de la loi de finances \\nn° 76-21 pour l’année budgétaire 2022 ...............................................................................................2606\\nMinistre de l’économie et des finances .\\xa0–\\xa0Délégation de\\xa0pouvoir.'),\n",
       " Document(metadata={'total_pages': 110, 'creationdate': '2020-12-18T12:58:58+00:00', 'moddate': '2020-12-18T12:59:09+00:00', 'trapped': '/False', 'producer': 'Adobe PDF Library 11.0', 'source': 'data\\\\FLAW 2021.pdf', 'page': 0, 'creator': 'Adobe InDesign CC (Windows)', 'page_label': '2025', 'start_index': 1167}, page_content='la publication au Bulletin officiel est prévue par les lois ou les réglements en vigueur\\nPages\\nCent-neuvième année – N° 6944 bis  3 joumada I 1442 (18 décembre 2020)\\nISSN 0851 - 1217\\nSOMMAIRE\\nTEXTES GENERAUX\\nLoi de finances pour l’année budgétaire 2021.\\nDahir n° 1-20-90 du 1er joumada I 1442 (16 décembre 2020) portant promulgation de la loi de finances \\nn° 65-20 pour l’année budgétaire 2021 ..................................................................................................2026'),\n",
       " Document(metadata={'page_label': '2912', 'source': 'data\\\\FLAW 2024.pdf', 'moddate': '2023-12-25T15:25:46+00:00', 'creationdate': '2023-12-25T15:23:09+00:00', 'total_pages': 105, 'creator': 'Adobe InDesign CC (Windows)', 'start_index': 0, 'producer': 'Adobe PDF Library 10.0.1', 'trapped': '/False', 'page': 1}, page_content='2912 BULLETIN OFFICIEL Nº 7259 bis – 11 joumada II 1445 (25-12-2023)\\nTEXTES GENERAUX\\nDahir n°\\xa01‑23‑91 du 30 joumada I 1445 (14 décembre 2023) portant promulgation \\nde la loi de finances n°\\xa055‑23 pour l’année budgétaire 2024\\nLOUANGE A DIEU SEUL !\\n(Grand Sceau de Sa Majesté Mohammed VI)\\nQue l’on sache par les présentes – puisse Dieu en élever et en fortifier la teneur !\\nQue Notre Majesté Chérifienne,\\nVu la Constitution, notamment ses articles 42, 50, 75 et 84 (2ème alinéa) ;'),\n",
       " Document(metadata={'total_pages': 98, 'producer': 'Adobe PDF Library 11.0', 'page': 2, 'creator': 'Adobe InDesign CC (Windows)', 'page_label': '2607', 'creationdate': '2021-12-21T11:52:49+00:00', 'moddate': '2021-12-21T11:52:59+00:00', 'start_index': 0, 'trapped': '/False', 'source': 'data\\\\FLAW 2022.pdf'}, page_content='Nº\\xa07049 bis – 15 joumada I 1443 (20-12-2021) BULLETIN OFFICIEL 2607\\nLOI DE FINANCES N°\\xa076-21\\n POUR L’ANNEE BUDGETAIRE 2022 \\nPREMIERE PARTIE\\nDONNEES GENERALES  \\nDE L’EQUILIBRE FINANCIER\\nTITRE PREMIER\\nDispositions relatives aux recettes publiques\\nI.– IMPÔTS ET REVENUS AUTORISÉS\\nArticle premier\\nI.\\xa0–\\xa0Sous réserve des dispositions de la présente loi \\nde finances, continueront d’être opérées, pendant l’année \\nbudgétaire 2022, conformément aux dispositions législatives \\net réglementaires en vigueur\\xa0:')]"
      ]
     },
     "execution_count": 12,
     "metadata": {},
     "output_type": "execute_result"
    }
   ],
   "source": [
    "vectorstore.similarity_search(\"what is the lois 2022\")"
   ]
  },
  {
   "cell_type": "code",
   "execution_count": 13,
   "id": "a61768d8",
   "metadata": {},
   "outputs": [],
   "source": [
    "system_prompt = (\n",
    "    \"You are an expert assistant for question-answering tasks of public finance. \"\n",
    "    \"Use the following pieces of retrieved context to answer the question. \"\n",
    "    \"If you don't know the answer, just say that you don't know. \"\n",
    "    \"If the user asks you a question, you need to get the information from the context then add your knowledge.\\n\\n\"\n",
    "    \"Context: {context}\"\n",
    "    \"and remember to remove unnessessary numbers or simboles\"\n",
    ")\n",
    "\n",
    "prompt = ChatPromptTemplate.from_messages([\n",
    "    (\"system\", system_prompt),\n",
    "    (\"human\", \"{input}\")\n",
    "])"
   ]
  },
  {
   "cell_type": "code",
   "execution_count": 100,
   "id": "ffff158f",
   "metadata": {},
   "outputs": [],
   "source": [
    "#prompt.invoke({\"context\":vectorstore,\n",
    "              # \"question\":\"what is new in 2022\"})"
   ]
  },
  {
   "cell_type": "code",
   "execution_count": 14,
   "id": "d20befe9",
   "metadata": {},
   "outputs": [],
   "source": [
    "llm=ChatGroq(model=\"openai/gpt-oss-20b\")\n",
    "stuff_chain = create_stuff_documents_chain(\n",
    "    llm,\n",
    "    prompt,\n",
    "    output_parser=StrOutputParser()\n",
    ")"
   ]
  },
  {
   "cell_type": "code",
   "execution_count": 15,
   "id": "5ab27f4e",
   "metadata": {},
   "outputs": [],
   "source": [
    "retriever = vectorstore.as_retriever()\n",
    "chain = create_retrieval_chain(retriever, stuff_chain)"
   ]
  },
  {
   "cell_type": "code",
   "execution_count": 16,
   "id": "b6ff08ef",
   "metadata": {},
   "outputs": [
    {
     "data": {
      "text/plain": [
       "'**What’s new in the 2025 finance law (LOI\\u202fDE\\u202fFINANCES\\u202fN°\\u202f60‑24)**  \\n\\n| Area | New or changed provision | Effective date |\\n|------|--------------------------|----------------|\\n| **General tax and revenue regime** | The law extends the application of certain provisions of the General Tax Code that were previously only applicable to the 2023 budget. | 1\\u202fJanuary\\u202f2025 (for acts and conventions) |\\n| **Specific articles of the General Tax Code** | Article\\u202f206\\u202fbis and Articles\\u202f293‑297 of the General Tax Code are now applied to the 2025 budget period, with the same adjustments that were made in the 2023 law. | 1\\u202fJanuary\\u202f2025 |\\n| **Autonomous state services** | Services of the State that are managed autonomously during the 2025 fiscal year remain subject to the same legislative and regulatory framework as in previous years, but the law explicitly notes that any new decrees relating to these services must be submitted for parliamentary ratification in the next finance law. | 2025 fiscal year |\\n| **Decrees and parliamentary ratification** | Any new decrees issued in 2025 that affect tax or revenue collection must be ratified by Parliament in the forthcoming finance law. | 2025 fiscal year |\\n\\n**Key take‑away**  \\nThe 2025 finance law largely maintains the status quo but introduces a few targeted updates: it extends the use of certain General Tax Code provisions to the 2025 period (effective from 1\\u202fJanuary\\u202f2025), clarifies that autonomous state services are governed by the same rules as before, and requires that any new decrees affecting revenue be ratified by Parliament in the next budgetary legislation.'"
      ]
     },
     "execution_count": 16,
     "metadata": {},
     "output_type": "execute_result"
    }
   ],
   "source": [
    "chain.invoke({\"input\": \"what is new in 2025 LOIS\"})[\"answer\"]"
   ]
  },
  {
   "cell_type": "code",
   "execution_count": null,
   "id": "649e2531",
   "metadata": {},
   "outputs": [],
   "source": []
  }
 ],
 "metadata": {
  "kernelspec": {
   "display_name": "Python 3",
   "language": "python",
   "name": "python3"
  },
  "language_info": {
   "codemirror_mode": {
    "name": "ipython",
    "version": 3
   },
   "file_extension": ".py",
   "mimetype": "text/x-python",
   "name": "python",
   "nbconvert_exporter": "python",
   "pygments_lexer": "ipython3",
   "version": "3.10.0"
  }
 },
 "nbformat": 4,
 "nbformat_minor": 5
}
